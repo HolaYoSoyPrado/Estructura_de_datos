{
  "nbformat": 4,
  "nbformat_minor": 0,
  "metadata": {
    "colab": {
      "name": "Tarea2_Contador.ipynb",
      "provenance": [],
      "authorship_tag": "ABX9TyPRcTlXME7nLj4zJ3k54Cqv",
      "include_colab_link": true
    },
    "kernelspec": {
      "name": "python3",
      "display_name": "Python 3"
    },
    "language_info": {
      "name": "python"
    }
  },
  "cells": [
    {
      "cell_type": "markdown",
      "metadata": {
        "id": "view-in-github",
        "colab_type": "text"
      },
      "source": [
        "<a href=\"https://colab.research.google.com/github/HolaYoSoyPrado/Estructura_de_datos/blob/main/Tarea2_Contador.ipynb\" target=\"_parent\"><img src=\"https://colab.research.google.com/assets/colab-badge.svg\" alt=\"Open In Colab\"/></a>"
      ]
    },
    {
      "cell_type": "code",
      "metadata": {
        "colab": {
          "base_uri": "https://localhost:8080/"
        },
        "id": "wTiayDaXF4_A",
        "outputId": "79de5885-65fa-40b6-9686-69d0d5d2af44"
      },
      "source": [
        "def printRev(n):\n",
        "  if n >= 0:\n",
        "    print(n)\n",
        "    if n ==0:\n",
        "      return\n",
        "    printRev(n - 1)\n",
        "n = 10\n",
        "printRev(n)\n",
        "print(\"BOOMMMMM !!!\")\n"
      ],
      "execution_count": 197,
      "outputs": [
        {
          "output_type": "stream",
          "name": "stdout",
          "text": [
            "10\n",
            "9\n",
            "8\n",
            "7\n",
            "6\n",
            "5\n",
            "4\n",
            "3\n",
            "2\n",
            "1\n",
            "0\n",
            "BOOMMMMM !!!\n"
          ]
        }
      ]
    },
    {
      "cell_type": "code",
      "metadata": {
        "colab": {
          "base_uri": "https://localhost:8080/"
        },
        "id": "Gn4xCAdjRFAu",
        "outputId": "8f629eec-59dc-4dbb-a66f-054a69e3f871"
      },
      "source": [
        "Lista=[1,2,3,4,5,6,7,8,9,10]\n",
        "del Lista[4]\n",
        "print(Lista)\n"
      ],
      "execution_count": 168,
      "outputs": [
        {
          "output_type": "stream",
          "name": "stdout",
          "text": [
            "[1, 2, 3, 4, 6, 7, 8, 9, 10]\n"
          ]
        }
      ]
    }
  ]
}