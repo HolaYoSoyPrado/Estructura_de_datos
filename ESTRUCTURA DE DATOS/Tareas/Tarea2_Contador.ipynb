{
  "nbformat": 4,
  "nbformat_minor": 0,
  "metadata": {
    "colab": {
      "name": "Tarea2_Contador.ipynb",
      "provenance": [],
      "collapsed_sections": []
    },
    "kernelspec": {
      "name": "python3",
      "display_name": "Python 3"
    },
    "language_info": {
      "name": "python"
    }
  },
  "cells": [
    {
      "cell_type": "code",
      "metadata": {
        "colab": {
          "base_uri": "https://localhost:8080/"
        },
        "id": "8QoOA92zdze1",
        "outputId": "d432cb43-6775-42cb-8658-a5f7f6630871"
      },
      "source": [
        "#Crear una lista de enteros en Python y realizar la suma con recursividad\n",
        "Lista=[1,2,3,4,5,6,7,8,9,10]\n",
        "def suma(Lista):\n",
        "  if len(Lista)==0:\n",
        "    return 0\n",
        "  return Lista.pop(-1)+suma(Lista)\n",
        "print(suma(Lista))"
      ],
      "execution_count": 221,
      "outputs": [
        {
          "output_type": "stream",
          "name": "stdout",
          "text": [
            "55\n"
          ]
        }
      ]
    },
    {
      "cell_type": "code",
      "metadata": {
        "colab": {
          "base_uri": "https://localhost:8080/"
        },
        "id": "wTiayDaXF4_A",
        "outputId": "c34393af-5020-4c11-a464-0f90f02af7f6"
      },
      "source": [
        "#Hacer un contador regresivo con recursión y cuando termine ( conteo llega a cero) que imprima la palabra BOOMMMMM !!!.\n",
        "def printRev(n):\n",
        "  if n >= 0:\n",
        "    print(n)\n",
        "    if n ==0:\n",
        "      return\n",
        "    printRev(n - 1)\n",
        "n = 10\n",
        "printRev(n)\n",
        "print(\"BOOMMMMM !!!\")\n"
      ],
      "execution_count": null,
      "outputs": [
        {
          "output_type": "stream",
          "name": "stdout",
          "text": [
            "10\n",
            "9\n",
            "8\n",
            "7\n",
            "6\n",
            "5\n",
            "4\n",
            "3\n",
            "2\n",
            "1\n",
            "0\n",
            "BOOMMMMM !!!\n"
          ]
        }
      ]
    },
    {
      "cell_type": "code",
      "metadata": {
        "colab": {
          "base_uri": "https://localhost:8080/"
        },
        "id": "Gn4xCAdjRFAu",
        "outputId": "a46a8f46-b910-4740-d11d-e66453d24860"
      },
      "source": [
        "#Eliminar de una lista o arreglo, el elemento que está en la posición media.\n",
        "Lista=[1,2,3,4,5,6,7,8,9,10]\n",
        "del Lista[4]\n",
        "print(Lista)\n"
      ],
      "execution_count": null,
      "outputs": [
        {
          "metadata": {
            "tags": null
          },
          "name": "stdout",
          "output_type": "stream",
          "text": [
            "[1, 2, 3, 4, 6, 7, 8, 9, 10]\n"
          ]
        }
      ]
    }
  ]
}