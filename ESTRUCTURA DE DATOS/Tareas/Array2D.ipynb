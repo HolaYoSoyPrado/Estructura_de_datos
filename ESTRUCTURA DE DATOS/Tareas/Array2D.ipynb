{
  "nbformat": 4,
  "nbformat_minor": 0,
  "metadata": {
    "colab": {
      "name": "Array2D.ipynb",
      "provenance": []
    },
    "kernelspec": {
      "name": "python3",
      "display_name": "Python 3"
    },
    "language_info": {
      "name": "python"
    }
  },
  "cells": [
    {
      "cell_type": "code",
      "metadata": {
        "id": "09mbL_ZU_qE6"
      },
      "source": [
        "class Array2D():\n",
        "  \n",
        "  def __init__(self, ren, col):\n",
        "    self.__columnas = col\n",
        "    self.__renglones = ren\n",
        "    self.__data = [[ 0 for i in range(col)]for i in range (ren)]\n",
        "\n",
        "  def to_string(self):\n",
        "    '''print(self.__data)\n",
        "    '''\n",
        "    for i in range(self.__renglones):\n",
        "      print(self.__data[i])\n",
        "\n",
        "  def clear(self, dato):\n",
        "    for i in range (self.__renglones):\n",
        "      for x in range(self.__columnas):\n",
        "        self.__data[i][x] = dato\n",
        "\n",
        "  def get_row_size(self):\n",
        "    return self.__renglones\n",
        "  \n",
        "  def get_col_size(self):\n",
        "    return self.__columnas\n",
        "  \n",
        "  def set_item(self,ren,col,dato):\n",
        "    self.__data[ren][col] = dato\n",
        "\n",
        "  def get_item(self,ren,col):\n",
        "    return self.__data[ren][col]"
      ],
      "execution_count": 2,
      "outputs": []
    },
    {
      "cell_type": "code",
      "metadata": {
        "colab": {
          "base_uri": "https://localhost:8080/"
        },
        "id": "48H8DafJ_wT6",
        "outputId": "21b85444-0983-4eec-d86a-931e93f00844"
      },
      "source": [
        "tablero = Array2D(6,5)\n",
        "tablero.to_string() \n",
        "tablero.clear('M')\n",
        "print(\"------Poblacion inicial------\")\n",
        "tablero.to_string()\n",
        "print(\"------ Una idea de como establecer la poblacion inicial-----\")\n",
        "poblacion_inicial = [(2,2) , (3,1) , (3,2), (3,3)]\n",
        "for par in poblacion_inicial:\n",
        "  tablero.set_item(par[0],par[1],'v')\n",
        "  print(\"------Poblacion inicial------\")\n",
        "  tablero.to_string()\n",
        "\n",
        "# ESTO NO SE DEBE HACER, POR QUE ES DIFICIL DE DARLE MANTENIMIENTO \n",
        "  \"\"\"\n",
        "  print(tablero.get_col_size())\n",
        "  print(tablero.get_row_size())\n",
        "\n",
        "  celula = tablero.get_item(2,1)\n",
        "  print(celula)\n",
        "\n",
        "  celula = tablero.get_item(2,2)\n",
        "  print(celula)\n",
        "  \"\"\"\n"
      ],
      "execution_count": 187,
      "outputs": [
        {
          "output_type": "stream",
          "name": "stdout",
          "text": [
            "[0, 0, 0, 0, 0]\n",
            "[0, 0, 0, 0, 0]\n",
            "[0, 0, 0, 0, 0]\n",
            "[0, 0, 0, 0, 0]\n",
            "[0, 0, 0, 0, 0]\n",
            "[0, 0, 0, 0, 0]\n",
            "------Poblacion inicial------\n",
            "['M', 'M', 'M', 'M', 'M']\n",
            "['M', 'M', 'M', 'M', 'M']\n",
            "['M', 'M', 'M', 'M', 'M']\n",
            "['M', 'M', 'M', 'M', 'M']\n",
            "['M', 'M', 'M', 'M', 'M']\n",
            "['M', 'M', 'M', 'M', 'M']\n",
            "------ Una idea de como establecer la poblacion inicial-----\n",
            "------Poblacion inicial------\n",
            "['M', 'M', 'M', 'M', 'M']\n",
            "['M', 'M', 'M', 'M', 'M']\n",
            "['M', 'M', 'v', 'M', 'M']\n",
            "['M', 'M', 'M', 'M', 'M']\n",
            "['M', 'M', 'M', 'M', 'M']\n",
            "['M', 'M', 'M', 'M', 'M']\n",
            "------Poblacion inicial------\n",
            "['M', 'M', 'M', 'M', 'M']\n",
            "['M', 'M', 'M', 'M', 'M']\n",
            "['M', 'M', 'v', 'M', 'M']\n",
            "['M', 'v', 'M', 'M', 'M']\n",
            "['M', 'M', 'M', 'M', 'M']\n",
            "['M', 'M', 'M', 'M', 'M']\n",
            "------Poblacion inicial------\n",
            "['M', 'M', 'M', 'M', 'M']\n",
            "['M', 'M', 'M', 'M', 'M']\n",
            "['M', 'M', 'v', 'M', 'M']\n",
            "['M', 'v', 'v', 'M', 'M']\n",
            "['M', 'M', 'M', 'M', 'M']\n",
            "['M', 'M', 'M', 'M', 'M']\n",
            "------Poblacion inicial------\n",
            "['M', 'M', 'M', 'M', 'M']\n",
            "['M', 'M', 'M', 'M', 'M']\n",
            "['M', 'M', 'v', 'M', 'M']\n",
            "['M', 'v', 'v', 'v', 'M']\n",
            "['M', 'M', 'M', 'M', 'M']\n",
            "['M', 'M', 'M', 'M', 'M']\n"
          ]
        }
      ]
    },
    {
      "cell_type": "markdown",
      "metadata": {
        "id": "ij8QZFwRGwBe"
      },
      "source": [
        "##¿Como deberia programarse el juego de la vida?\n",
        "\n",
        "### R.- Programar  un ADT especifico para empaquetar la logica "
      ]
    },
    {
      "cell_type": "code",
      "metadata": {
        "id": "vn2CUM3dJ_Rs"
      },
      "source": [
        "\"\"\"\n",
        "En el constructor:\n",
        "  Lista_pob:inicial es una lista de tuplas que contiene las cordenadas ((ren,col)) de las celulas vivas en la poblacion inicial\n",
        "\"\"\"\n",
        "\"self.__ pone en privado\"\n",
        "\n",
        "class JuegoDeLaVidaADT:\n",
        "  def __init__(self,rens,cols, lista_pob_inicial, generaciones):\n",
        "    self.tablero = Array2D(rens,cols)\n",
        "    self.generaciones=generaciones\n",
        "    self.gen=1\n",
        "    self.tablero.clear('M')\n",
        "    for par in lista_pob_inicial:\n",
        "      self.tablero.set_item(par[0], par[1], 'V')\n",
        "\n",
        "  def to_string(self):\n",
        "    print(f\"----GENERACION {self.gen}\")\n",
        "    self.tablero.to_string()\n",
        "\n",
        "\n",
        "  '''\n",
        "  get vecinos(r,c)\n",
        "  va a calcular los vecinos de la celula en la posicion r,c\n",
        "  y regresara las cordenadas de los mismos\n",
        "\n",
        "  get_vecinos(0.0) -→[(0.1),(1,0),(1,1)]\n",
        "  get_vecinos(2,1) -→[(1,0).(1,1),(1,2),(2,0),(2,1),(2,2),(3,0),(3,1),(3,3)]\n",
        "  '''\n",
        "  \n",
        "  def get_vecinos(r,c):\n",
        "    vecinos=[]\n",
        "    for ren in range(r-1,r+1,1):\n",
        "      for col in range(c-1,c+1,1):\n",
        "        if ren\n",
        "    return\n",
        "\n",
        "  '''\n",
        "  get_vecinos_vivos(r,c)\n",
        "  '''\n",
        "\n",
        "  def get_vecinos_vivos(self,r,c):\n",
        "    vivos=0\n",
        "    if 0 <=r-1 and 0 <= c-1 and jv[r-1][c-1]:\n",
        "      vivos += 1\n",
        "    if 0 <= r-1 and jv[r-1][c]:\n",
        "      vivos += 1\n",
        "    if 0 <= r-1 and c+1 < jv.shape[1] and jv[r-1][c+1]:\n",
        "      vivos += 1\n",
        "    if 0 <= r-1 and jv[r][c-1]:\n",
        "      vivos += 1\n",
        "    if c+1 < jv.shape[1] and jv[r][c+1]:\n",
        "      vivos += 1\n",
        "    if r+1 < jv.shape[0] and 0 <= c-1 and jv[r+1][c-1]:\n",
        "      vivos += 1\n",
        "    if r+1 < jv.shape[0] and jv[r+1][c]:\n",
        "      vivos += 1\n",
        "    if r+1 < jv.shape[0] and c+1 < jv.shape[1] and jv[r+1][c+1]:\n",
        "      vivos += 1\n",
        "\n",
        "    return vivos"
      ],
      "execution_count": 239,
      "outputs": []
    },
    {
      "cell_type": "code",
      "metadata": {
        "colab": {
          "base_uri": "https://localhost:8080/"
        },
        "id": "5QvVeCNoGXvm",
        "outputId": "eda0a64d-b7d4-4070-dd05-a14f53b1a784"
      },
      "source": [
        "juego=JuegoDeLaVidaADT(6 , 5 , [(2,2) , (3,1) , (3,2), (3,3)] , 5)\n",
        "juego.to_string()"
      ],
      "execution_count": 224,
      "outputs": [
        {
          "output_type": "stream",
          "name": "stdout",
          "text": [
            "----GENERACION 1\n",
            "['M', 'M', 'M', 'M', 'M']\n",
            "['M', 'M', 'M', 'M', 'M']\n",
            "['M', 'M', 'V', 'M', 'M']\n",
            "['M', 'V', 'V', 'V', 'M']\n",
            "['M', 'M', 'M', 'M', 'M']\n",
            "['M', 'M', 'M', 'M', 'M']\n"
          ]
        }
      ]
    }
  ]
}