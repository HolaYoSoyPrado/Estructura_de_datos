{
  "nbformat": 4,
  "nbformat_minor": 0,
  "metadata": {
    "colab": {
      "name": "Tarea 4.ipynb",
      "provenance": []
    },
    "kernelspec": {
      "name": "python3",
      "display_name": "Python 3"
    },
    "language_info": {
      "name": "python"
    }
  },
  "cells": [
    {
      "cell_type": "code",
      "metadata": {
        "id": "tcgu1sJU941D"
      },
      "source": [
        "'''\n",
        "Implementar el ADT array2D visto en clase\n",
        "'''\n",
        "class Array2D():\n",
        "  def __init__(self,ren,col):\n",
        "    self.__ren=3\n",
        "    self.__col=4\n",
        "    self.__info=[(range(self.__ren))for _ in range(self.__col)]\n",
        "    return self.__data[info]\n",
        "\n",
        "  def clear(self):\n",
        "    self.__info=[(range(self.__ren))for _ in range(self.__col)]\n",
        "\n",
        "  def get_row_size(self):\n",
        "    return self.__ren\n",
        "\n",
        "  def get_col_size(self):\n",
        "    return self.__col\n",
        "\n",
        "  def set_item(self,info,dato):\n",
        "    if self.__check_limits__(info):\n",
        "      self.__item[info]=dato\n",
        "\n",
        "  def get__item(self):\n",
        "    return self.__dato[info]\n",
        "    \n",
        "  def to_string( self):\n",
        "    print(self.__data)\n",
        "\n"
      ],
      "execution_count": 136,
      "outputs": []
    }
  ]
}