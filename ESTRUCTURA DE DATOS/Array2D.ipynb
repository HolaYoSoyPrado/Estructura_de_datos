{
  "nbformat": 4,
  "nbformat_minor": 0,
  "metadata": {
    "colab": {
      "name": "Array2D.ipynb",
      "provenance": [],
      "collapsed_sections": []
    },
    "kernelspec": {
      "name": "python3",
      "display_name": "Python 3"
    },
    "language_info": {
      "name": "python"
    }
  },
  "cells": [
    {
      "cell_type": "code",
      "metadata": {
        "id": "09mbL_ZU_qE6"
      },
      "source": [
        "class Array2D():\n",
        "  \n",
        "  def __init__(self, ren, col):\n",
        "    self.__columnas = col\n",
        "    self.__renglones = ren\n",
        "    self.__data = [[ 0 for i in range(col)]for i in range (ren)]\n",
        "\n",
        "  def to_string(self):\n",
        "    '''print(self.__data)\n",
        "    '''\n",
        "    for i in range(self.__renglones):\n",
        "      print(self.__data[i])\n",
        "\n",
        "  def clear(self, dato):\n",
        "    for i in range (self.__renglones):\n",
        "      for x in range(self.__columnas):\n",
        "        self.__data[i][x] = dato\n",
        "\n",
        "  def get_row_size(self):\n",
        "    return self.__renglones\n",
        "  \n",
        "  def get_col_size(self):\n",
        "    return self.__columnas\n",
        "  \n",
        "  def set_item(self,ren,col,dato):\n",
        "    self.__data[ren][col] = dato\n",
        "\n",
        "  def get_item(self,ren,col):\n",
        "    return self.__data[ren][col]"
      ],
      "execution_count": 294,
      "outputs": []
    },
    {
      "cell_type": "code",
      "metadata": {
        "colab": {
          "base_uri": "https://localhost:8080/"
        },
        "id": "48H8DafJ_wT6",
        "outputId": "f32a33ef-5377-4f5d-a20c-66dedbfd6590"
      },
      "source": [
        "tablero = Array2D(6,5)\n",
        "tablero.to_string() \n",
        "tablero.clear('M')\n",
        "print(\"------Poblacion inicial------\")\n",
        "tablero.to_string()\n",
        "print(\"------ Una idea de como establecer la poblacion inicial-----\")\n",
        "poblacion_inicial = [(2,2) , (3,1) , (3,2), (3,3)]\n",
        "for par in poblacion_inicial:\n",
        "  tablero.set_item(par[0],par[1],'v')\n",
        "  print(\"------Poblacion inicial------\")\n",
        "  tablero.to_string()\n",
        "\n",
        "# ESTO NO SE DEBE HACER, POR QUE ES DIFICIL DE DARLE MANTENIMIENTO \n",
        "  \"\"\"\n",
        "  print(tablero.get_col_size())\n",
        "  print(tablero.get_row_size())\n",
        "\n",
        "  celula = tablero.get_item(2,1)\n",
        "  print(celula)\n",
        "\n",
        "  celula = tablero.get_item(2,2)\n",
        "  print(celula)\n",
        "  \"\"\"\n"
      ],
      "execution_count": 295,
      "outputs": [
        {
          "output_type": "stream",
          "name": "stdout",
          "text": [
            "[0, 0, 0, 0, 0]\n",
            "[0, 0, 0, 0, 0]\n",
            "[0, 0, 0, 0, 0]\n",
            "[0, 0, 0, 0, 0]\n",
            "[0, 0, 0, 0, 0]\n",
            "[0, 0, 0, 0, 0]\n",
            "------Poblacion inicial------\n",
            "['M', 'M', 'M', 'M', 'M']\n",
            "['M', 'M', 'M', 'M', 'M']\n",
            "['M', 'M', 'M', 'M', 'M']\n",
            "['M', 'M', 'M', 'M', 'M']\n",
            "['M', 'M', 'M', 'M', 'M']\n",
            "['M', 'M', 'M', 'M', 'M']\n",
            "------ Una idea de como establecer la poblacion inicial-----\n",
            "------Poblacion inicial------\n",
            "['M', 'M', 'M', 'M', 'M']\n",
            "['M', 'M', 'M', 'M', 'M']\n",
            "['M', 'M', 'v', 'M', 'M']\n",
            "['M', 'M', 'M', 'M', 'M']\n",
            "['M', 'M', 'M', 'M', 'M']\n",
            "['M', 'M', 'M', 'M', 'M']\n",
            "------Poblacion inicial------\n",
            "['M', 'M', 'M', 'M', 'M']\n",
            "['M', 'M', 'M', 'M', 'M']\n",
            "['M', 'M', 'v', 'M', 'M']\n",
            "['M', 'v', 'M', 'M', 'M']\n",
            "['M', 'M', 'M', 'M', 'M']\n",
            "['M', 'M', 'M', 'M', 'M']\n",
            "------Poblacion inicial------\n",
            "['M', 'M', 'M', 'M', 'M']\n",
            "['M', 'M', 'M', 'M', 'M']\n",
            "['M', 'M', 'v', 'M', 'M']\n",
            "['M', 'v', 'v', 'M', 'M']\n",
            "['M', 'M', 'M', 'M', 'M']\n",
            "['M', 'M', 'M', 'M', 'M']\n",
            "------Poblacion inicial------\n",
            "['M', 'M', 'M', 'M', 'M']\n",
            "['M', 'M', 'M', 'M', 'M']\n",
            "['M', 'M', 'v', 'M', 'M']\n",
            "['M', 'v', 'v', 'v', 'M']\n",
            "['M', 'M', 'M', 'M', 'M']\n",
            "['M', 'M', 'M', 'M', 'M']\n"
          ]
        }
      ]
    },
    {
      "cell_type": "markdown",
      "metadata": {
        "id": "ij8QZFwRGwBe"
      },
      "source": [
        "##¿Como deberia programarse el juego de la vida?\n",
        "\n",
        "### R.- Programar  un ADT especifico para empaquetar la logica "
      ]
    },
    {
      "cell_type": "code",
      "metadata": {
        "id": "vn2CUM3dJ_Rs"
      },
      "source": [
        "\"\"\"\n",
        "En el constructor:\n",
        "  Lista_pob:inicial es una lista de tuplas que contiene las cordenadas ((ren,col)) de las celulas vivas en la poblacion inicial\n",
        "\"\"\"\n",
        "\"self.__ pone en privado\"\n",
        "\n",
        "class JuegoDeLaVidaADT:\n",
        "  def __init__(self,rens,cols, lista_pob_inicial, generaciones):\n",
        "    self.tablero = Array2D(rens,cols) #que ya conocemos\n",
        "    self.generaciones=generaciones #cuantas generaciones ugara el usuario\n",
        "    self.gen=1 # se inicializa la generacion\n",
        "    self.tablero.clear('M')\n",
        "    self.ren = rens \n",
        "    self.col = cols \n",
        "    for par in lista_pob_inicial:\n",
        "      self.tablero.set_item(par[0], par[1], 'V')\n",
        "\n",
        "  def formato( self ):\n",
        "    formato = self.tablero.get_info()\n",
        "    for i in range( len(formato) ):\n",
        "      row = formato[i]\n",
        "      str = ' '\n",
        "      for i in range( len( row )):\n",
        "        if row[i] == 'M':\n",
        "          str = str + chalk.black( row[i] ) + ' '\n",
        "        elif row[i] == 'V':\n",
        "          str = str + chalk.green( row[i] ) + ' '\n",
        "      print(str) \n",
        "  \n",
        "  def to_string(self):\n",
        "    for i in range( self.generaciones ):\n",
        "      print(f\"----GENERACION {self.gen}----\")\n",
        "      self.tablero.to_string()\n",
        "      self.formato()\n",
        "      self.aplicarReglas()\n",
        "      \n",
        "  '''\n",
        "  get vecinos(r,c)\n",
        "  va a calcular los vecinos de la celula en la posicion r,c\n",
        "  y regresara las cordenadas de los mismos\n",
        "\n",
        "  get_vecinos(0.0) -→[(0.1),(1,0),(1,1)]\n",
        "  get_vecinos(2,1) -→[(1,0).(1,1),(1,2),(2,0),(2,1),(2,2),(3,0),(3,1),(3,3)]\n",
        "  '''\n",
        "  def get_vecinos(r,c):\n",
        "    vecinos=[]\n",
        "    for ren in range(r-1,r+2,1):\n",
        "      for col in range(c-1,c+2,1):\n",
        "        if ren < 0 or ren >= self.tablero.get_row_size() or col < 0 or col >= self.tablero.get_col_size() or (ren==r and col==c):\n",
        "          pass\n",
        "        else:\n",
        "          vecinos.append((ren,col))\n",
        "    return vecinos\n",
        "\n",
        "  '''\n",
        "  get_vecinos_vivos(r,c)\n",
        "  '''\n",
        "  def get_vecinos_vivos(self,r,c):\n",
        "    vivos=0\n",
        "    vecinos = self.get_vecinos(r,c)\n",
        "    for par in vecinos:\n",
        "      if self.tablero.get_item(par[0], par1[1]) == 'V':\n",
        "        vivos +=1\n",
        "    return vivos\n",
        "    \"\"\"\n",
        "    recorrer todo el grid para aplicar la 4 reglas celula por celula, \n",
        "    ir agregando el resultado en una copia del tablero original \n",
        "    y al final sustituir el tablero general por el local\n",
        "    \"\"\"\n",
        "    def corEnTablero( self ):\n",
        "        cors = []\n",
        "        for ren in range( self.ren ):\n",
        "            for col in range( self.col ):\n",
        "                cor = [ ren, col ]\n",
        "                cors.append(cor)\n",
        "        self.cors = cors \n",
        "    \n",
        "    def aplicar_reglas():\n",
        "      nuevoEstado = []\n",
        "      for cor in self.cors:\n",
        "            vivos = self.vecinosVivos( cor[0], cor[1] )\n",
        "            estado = self.tablero.get_item( cor[0], cor[1] )\n",
        "\n",
        "            if estado == 'V':\n",
        "                if vivos == 2 or vivos == 3:\n",
        "                    nuevoEstado.append('V')\n",
        "                elif vivos == 1 or vivos == 0:\n",
        "                    nuevoEstado.append('M')\n",
        "                elif vivos >= 4 :\n",
        "                    nuevoEstado.append('M')\n",
        "            elif estado  == 'M':\n",
        "                if vivos == 3 :\n",
        "                    nuevoEstado.append('V')\n",
        "                else:\n",
        "                    nuevoEstado.append('M')\n",
        "      for cor in self.cors:\n",
        "            self.tablero.set_item( cor[0], cor[1] ,nuevoEstado[0])\n",
        "            nuevoEstado.pop( 0 )\n",
        "      self.gen += 1\n",
        "      return\n",
        "    \n",
        "    '''\n",
        "    vivos=0\n",
        "    if 0 <=r-1 and 0 <= c-1 and jv[r-1][c-1]:\n",
        "      vivos += 1\n",
        "    if 0 <= r-1 and jv[r-1][c]:\n",
        "      vivos += 1\n",
        "    if 0 <= r-1 and c+1 < jv.shape[1] and jv[r-1][c+1]:\n",
        "      vivos += 1\n",
        "    if 0 <= r-1 and jv[r][c-1]:\n",
        "      vivos += 1\n",
        "    if c+1 < jv.shape[1] and jv[r][c+1]:\n",
        "      vivos += 1\n",
        "    if r+1 < jv.shape[0] and 0 <= c-1 and jv[r+1][c-1]:\n",
        "      vivos += 1\n",
        "    if r+1 < jv.shape[0] and jv[r+1][c]:\n",
        "      vivos += 1\n",
        "    if r+1 < jv.shape[0] and c+1 < jv.shape[1] and jv[r+1][c+1]:\n",
        "      vivos += 1\n",
        "    self.tablero.get_vecinos_vivos()\n",
        "    return vivos\n",
        "    '''"
      ],
      "execution_count": 332,
      "outputs": []
    },
    {
      "cell_type": "code",
      "metadata": {
        "colab": {
          "base_uri": "https://localhost:8080/"
        },
        "id": "fCL63XiHUU7K",
        "outputId": "0544918e-a4bb-4b63-dc34-db5a15e601bb"
      },
      "source": [
        "juego=JuegoDeLaVidaADT(6,5,[(2,2) , (3,1) , (3,2), (3,3)],5)\n",
        "juego.to_string()"
      ],
      "execution_count": 333,
      "outputs": [
        {
          "output_type": "stream",
          "name": "stdout",
          "text": [
            "----GENERACION 1----\n",
            "['M', 'M', 'M', 'M', 'M']\n",
            "['M', 'M', 'M', 'M', 'M']\n",
            "['M', 'M', 'V', 'M', 'M']\n",
            "['M', 'V', 'V', 'V', 'M']\n",
            "['M', 'M', 'M', 'M', 'M']\n",
            "['M', 'M', 'M', 'M', 'M']\n",
            "----GENERACION 1----\n",
            "['M', 'M', 'M', 'M', 'M']\n",
            "['M', 'M', 'M', 'M', 'M']\n",
            "['M', 'M', 'V', 'M', 'M']\n",
            "['M', 'V', 'V', 'V', 'M']\n",
            "['M', 'M', 'M', 'M', 'M']\n",
            "['M', 'M', 'M', 'M', 'M']\n",
            "----GENERACION 1----\n",
            "['M', 'M', 'M', 'M', 'M']\n",
            "['M', 'M', 'M', 'M', 'M']\n",
            "['M', 'M', 'V', 'M', 'M']\n",
            "['M', 'V', 'V', 'V', 'M']\n",
            "['M', 'M', 'M', 'M', 'M']\n",
            "['M', 'M', 'M', 'M', 'M']\n",
            "----GENERACION 1----\n",
            "['M', 'M', 'M', 'M', 'M']\n",
            "['M', 'M', 'M', 'M', 'M']\n",
            "['M', 'M', 'V', 'M', 'M']\n",
            "['M', 'V', 'V', 'V', 'M']\n",
            "['M', 'M', 'M', 'M', 'M']\n",
            "['M', 'M', 'M', 'M', 'M']\n",
            "----GENERACION 1----\n",
            "['M', 'M', 'M', 'M', 'M']\n",
            "['M', 'M', 'M', 'M', 'M']\n",
            "['M', 'M', 'V', 'M', 'M']\n",
            "['M', 'V', 'V', 'V', 'M']\n",
            "['M', 'M', 'M', 'M', 'M']\n",
            "['M', 'M', 'M', 'M', 'M']\n"
          ]
        }
      ]
    },
    {
      "cell_type": "code",
      "metadata": {
        "colab": {
          "base_uri": "https://localhost:8080/"
        },
        "id": "RW0-bfzHC7j8",
        "outputId": "817518fd-08c5-42a8-b28f-1102772828bb"
      },
      "source": [
        "!pip install simple_chalk"
      ],
      "execution_count": null,
      "outputs": [
        {
          "output_type": "stream",
          "name": "stdout",
          "text": [
            "Collecting simple_chalk\n",
            "  Downloading simple_chalk-0.1.0.tar.gz (13 kB)\n",
            "Building wheels for collected packages: simple-chalk\n",
            "  Building wheel for simple-chalk (setup.py) ... \u001b[?25l\u001b[?25hdone\n",
            "  Created wheel for simple-chalk: filename=simple_chalk-0.1.0-py3-none-any.whl size=22163 sha256=9040c22bfff7fb356349c707f321e69a7dd53d35d86bd0b84d8fee0274a34181\n",
            "  Stored in directory: /root/.cache/pip/wheels/24/e2/84/d54838032016039eef79df1137b91defaa6db068d825dfcdcd\n",
            "Successfully built simple-chalk\n",
            "Installing collected packages: simple-chalk\n",
            "Successfully installed simple-chalk-0.1.0\n"
          ]
        }
      ]
    },
    {
      "cell_type": "code",
      "metadata": {
        "colab": {
          "base_uri": "https://localhost:8080/"
        },
        "id": "dnHmNU9RDZyu",
        "outputId": "5c5ad99b-787d-41ad-d15b-bb55d676dc30"
      },
      "source": [
        "from simple_chalk import chalk, green, red\n",
        "nombre= \"jose\"\n",
        "edad=19\n",
        "print(nombre)\n",
        "(print(edad))\n",
        "\n",
        "print(chalk.green(nombre))\n",
        "print(chalk.red(edad))"
      ],
      "execution_count": null,
      "outputs": [
        {
          "output_type": "stream",
          "name": "stdout",
          "text": [
            "jose\n",
            "19\n",
            "\u001b[32mjose\u001b[0m\n",
            "\u001b[31m19\u001b[0m\n"
          ]
        }
      ]
    }
  ]
}